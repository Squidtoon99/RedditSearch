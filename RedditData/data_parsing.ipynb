{
 "cells": [
  {
   "cell_type": "code",
   "execution_count": 36,
   "metadata": {},
   "outputs": [],
   "source": [
    "import orjson as json\n",
    "import datetime\n",
    "from collections import Counter\n",
    "from tqdm import tqdm\n",
    "from pprint import pprint"
   ]
  },
  {
   "cell_type": "code",
   "execution_count": 9,
   "metadata": {},
   "outputs": [
    {
     "name": "stdout",
     "output_type": "stream",
     "text": [
      "{'subreddit': Counter(), 'id': Counter(), 'author': Counter(), 'post_hint': Counter(), 'score': Counter(), 'is_original_content': Counter(), 'likes': Counter(), 'media': Counter(), 'over_18': Counter(), 'is_video': Counter(), 'subreddit_type': Counter()}\n"
     ]
    }
   ],
   "source": [
    "file = open(\"submissions/RS_2023-09\", \"r\")\n",
    "\n",
    "# Parameters to research about:\n",
    "dict = {\n",
    "    \"subreddit\": Counter(),\n",
    "    \"id\": Counter(),\n",
    "    \"author\": Counter(),\n",
    "    \"post_hint\": Counter(),\n",
    "    \"score\": Counter(),\n",
    "    \"is_original_content\": Counter(),\n",
    "    \"likes\": Counter(),\n",
    "    \"media\": Counter(),\n",
    "    \"over_18\": Counter(),\n",
    "    \"is_video\": Counter(),\n",
    "    \"subreddit_type\": Counter()\n",
    "}\n",
    "print(dict)"
   ]
  },
  {
   "cell_type": "code",
   "execution_count": 10,
   "metadata": {},
   "outputs": [
    {
     "name": "stderr",
     "output_type": "stream",
     "text": [
      "0it [00:00, ?it/s]"
     ]
    },
    {
     "name": "stderr",
     "output_type": "stream",
     "text": [
      "3658994it [01:48, 33869.68it/s]"
     ]
    },
    {
     "name": "stdout",
     "output_type": "stream",
     "text": [
      "ERROR:  unexpected end of data: line 1 column 5442 (char 5441)\n"
     ]
    },
    {
     "name": "stderr",
     "output_type": "stream",
     "text": [
      "\n"
     ]
    }
   ],
   "source": [
    "output = open(\"submissions/RS_2023-09-clean\", \"w+\")\n",
    "for line in tqdm(file):\n",
    "    try:\n",
    "        data = json.loads(line)\n",
    "        \n",
    "        # filter 1: add to new_data if not over_18 and not is_video\n",
    "        if str(data['over_18']) == \"False\" and str(data['is_video']) == \"False\":\n",
    "            output.write(json.dumps(data).decode(\"utf8\") + \"\\n\")\n",
    "        \n",
    "        # update each key's counter for the current data\n",
    "        for key in dict.keys():\n",
    "            if key in data:\n",
    "                dict[key].update([str(data[key])])\n",
    "    except Exception as e:\n",
    "        print(\"ERROR: \", e)\n",
    "        continue\n",
    "\n",
    "output.close()\n",
    "file.close()"
   ]
  },
  {
   "cell_type": "markdown",
   "metadata": {},
   "source": [
    "#### Counts of the data without any filters:"
   ]
  },
  {
   "cell_type": "code",
   "execution_count": 11,
   "metadata": {},
   "outputs": [
    {
     "name": "stdout",
     "output_type": "stream",
     "text": [
      "subreddit 195221\n",
      "[('dirtyr4r', 21759), ('Starfield', 20846), ('jerkbudsNolimitssss0', 20596), ('jerkbuds_titi', 19596), ('AskReddit', 16733), ('GaySnapchatImages', 15758), ('SnapchatSexting4you', 13444), ('DisneyNewsfeed', 13443), ('GaySnapchatShare', 12287), ('DirtySnapchat', 12167)]\n",
      "\n",
      "id 3658993\n",
      "[('166rg7m', 1), ('166rg7n', 1), ('166rg7o', 1), ('166rg7r', 1), ('166rg7s', 1), ('166rg7t', 1), ('166rg7u', 1), ('166rg7v', 1), ('166rg7w', 1), ('166rg7x', 1)]\n",
      "\n",
      "author 1045697\n",
      "[('AutoModerator', 32425), ('[deleted]', 20327), ('EchoJobs', 13869), ('LifeCracker', 13443), ('PersonalizedGameRecs', 11303), ('bsgqlocasdfd', 7175), ('Appzxt', 6121), ('AutoNewsAdmin', 5229), ('enre19', 5078), ('Own_Laugh6357', 4953)]\n",
      "\n",
      "post_hint 7\n",
      "[('image', 1124544), ('link', 382599), ('rich:video', 230692), ('self', 92924), ('hosted:video', 87113), ('video', 26), ('gallery', 4)]\n",
      "\n",
      "score 1518\n",
      "[('1', 3581000), ('2', 21595), ('3', 9447), ('4', 4392), ('5', 4118), ('6', 3159), ('7', 2480), ('8', 1951), ('9', 1597), ('10', 1405)]\n",
      "\n",
      "is_original_content 2\n",
      "[('False', 3630526), ('True', 28467)]\n",
      "\n",
      "likes 1\n",
      "[('None', 3658849)]\n",
      "\n",
      "media 199267\n",
      "[('None', 3324822), ('{\\'oembed\\': {\\'author_name\\': \\'theman off shorts\\', \\'author_url\\': \\'https://www.youtube.com/@themanoffshorts\\', \\'height\\': 200, \\'html\\': \\'<iframe width=\"356\" height=\"200\" src=\"https://www.youtube.com/embed/4OOzvifL97k?start=8&feature=oembed&enablejsapi=1\" frameborder=\"0\" allow=\"accelerometer; autoplay; clipboard-write; encrypted-media; gyroscope; picture-in-picture; web-share\" allowfullscreen title=\"TOP 50 Incredible Goals Of The Season 2023\"></iframe>\\', \\'provider_name\\': \\'YouTube\\', \\'provider_url\\': \\'https://www.youtube.com/\\', \\'thumbnail_height\\': 360, \\'thumbnail_url\\': \\'https://i.ytimg.com/vi/4OOzvifL97k/hqdefault.jpg\\', \\'thumbnail_width\\': 480, \\'title\\': \\'TOP 50 Incredible Goals Of The Season 2023\\', \\'type\\': \\'video\\', \\'version\\': \\'1.0\\', \\'width\\': 356}, \\'type\\': \\'youtube.com\\'}', 551), ('{\\'oembed\\': {\\'author_name\\': \\'HotFox K.\\', \\'author_url\\': \\'https://www.youtube.com/@hotfoxk.9889\\', \\'height\\': 200, \\'html\\': \\'<iframe width=\"267\" height=\"200\" src=\"https://www.youtube.com/embed/HGUhmqKPw2Q?feature=oembed&enablejsapi=1\" frameborder=\"0\" allow=\"accelerometer; autoplay; clipboard-write; encrypted-media; gyroscope; picture-in-picture; web-share\" allowfullscreen title=\"0071  Tom and Jerry Scream\"></iframe>\\', \\'provider_name\\': \\'YouTube\\', \\'provider_url\\': \\'https://www.youtube.com/\\', \\'thumbnail_height\\': 360, \\'thumbnail_url\\': \\'https://i.ytimg.com/vi/HGUhmqKPw2Q/hqdefault.jpg\\', \\'thumbnail_width\\': 480, \\'title\\': \\'0071  Tom and Jerry Scream\\', \\'type\\': \\'video\\', \\'version\\': \\'1.0\\', \\'width\\': 267}, \\'type\\': \\'youtube.com\\'}', 468), ('{\\'oembed\\': {\\'height\\': 1067, \\'html\\': \\'<iframe src=\"https://www.redgifs.com/ifr/impishdarlingamphiuma\" frameborder=\"0\" scrolling=\"no\" width=\"100%\" height=\"100%\"\\\\n      allowfullscreen style=\"position:absolute;\"></iframe>\\', \\'provider_name\\': \\'RedGIFs\\', \\'provider_url\\': \\'https://www.redgifs.com/\\', \\'thumbnail_height\\': 1920, \\'thumbnail_url\\': \\'https://api.redgifs.com/v2/gifs/impishdarlingamphiuma/files/ImpishDarlingAmphiuma-poster.jpg\\', \\'thumbnail_width\\': 1080, \\'title\\': \\'Big Dick Porn GIF\\', \\'type\\': \\'video\\', \\'version\\': \\'1.0\\', \\'width\\': 600}, \\'type\\': \\'redgifs.com\\'}', 387), ('{\\'oembed\\': {\\'height\\': 1019, \\'html\\': \\'<iframe src=\"https://www.redgifs.com/ifr/flawlessgrowingspotteddolphin\" frameborder=\"0\" scrolling=\"no\" width=\"100%\" height=\"100%\"\\\\n      allowfullscreen style=\"position:absolute;\"></iframe>\\', \\'provider_name\\': \\'RedGIFs\\', \\'provider_url\\': \\'https://www.redgifs.com/\\', \\'thumbnail_height\\': 1080, \\'thumbnail_url\\': \\'https://api.redgifs.com/v2/gifs/flawlessgrowingspotteddolphin/files/FlawlessGrowingSpotteddolphin-poster.jpg\\', \\'thumbnail_width\\': 636, \\'title\\': \\'Pussy Porn GIF\\', \\'type\\': \\'video\\', \\'version\\': \\'1.0\\', \\'width\\': 600}, \\'type\\': \\'redgifs.com\\'}', 323), ('{\\'oembed\\': {\\'height\\': 1066, \\'html\\': \\'<iframe src=\"https://www.redgifs.com/ifr/mushypeachpuffimpala\" frameborder=\"0\" scrolling=\"no\" width=\"100%\" height=\"100%\"\\\\n      allowfullscreen style=\"position:absolute;\"></iframe>\\', \\'provider_name\\': \\'RedGIFs\\', \\'provider_url\\': \\'https://www.redgifs.com/\\', \\'thumbnail_height\\': 1080, \\'thumbnail_url\\': \\'https://api.redgifs.com/v2/gifs/mushypeachpuffimpala/files/MushyPeachpuffImpala-poster.jpg\\', \\'thumbnail_width\\': 608, \\'title\\': \\'Ass Porn GIF\\', \\'type\\': \\'video\\', \\'version\\': \\'1.0\\', \\'width\\': 600}, \\'type\\': \\'redgifs.com\\'}', 187), ('{\\'oembed\\': {\\'author_name\\': \\'Rivers, Ponds and Campfires\\', \\'author_url\\': \\'https://www.youtube.com/@riverspondsandcampfires\\', \\'height\\': 200, \\'html\\': \\'<iframe width=\"356\" height=\"200\" src=\"https://www.youtube.com/embed/zRP4ATXWiTY?feature=oembed&enablejsapi=1\" frameborder=\"0\" allow=\"accelerometer; autoplay; clipboard-write; encrypted-media; gyroscope; picture-in-picture; web-share\" allowfullscreen title=\"Ebike Hammock Camp, Fish and Cook\"></iframe>\\', \\'provider_name\\': \\'YouTube\\', \\'provider_url\\': \\'https://www.youtube.com/\\', \\'thumbnail_height\\': 360, \\'thumbnail_url\\': \\'https://i.ytimg.com/vi/zRP4ATXWiTY/hqdefault.jpg\\', \\'thumbnail_width\\': 480, \\'title\\': \\'Ebike Hammock Camp, Fish and Cook\\', \\'type\\': \\'video\\', \\'version\\': \\'1.0\\', \\'width\\': 356}, \\'type\\': \\'youtube.com\\'}', 183), ('{\\'oembed\\': {\\'height\\': 1066, \\'html\\': \\'<iframe src=\"https://www.redgifs.com/ifr/serpentineleadingmeadowlark\" frameborder=\"0\" scrolling=\"no\" width=\"100%\" height=\"100%\"\\\\n      allowfullscreen style=\"position:absolute;\"></iframe>\\', \\'provider_name\\': \\'RedGIFs\\', \\'provider_url\\': \\'https://www.redgifs.com/\\', \\'thumbnail_height\\': 1080, \\'thumbnail_url\\': \\'https://api.redgifs.com/v2/gifs/serpentineleadingmeadowlark/files/SerpentineLeadingMeadowlark-poster.jpg\\', \\'thumbnail_width\\': 608, \\'title\\': \\'OnlyFans Porn GIF\\', \\'type\\': \\'video\\', \\'version\\': \\'1.0\\', \\'width\\': 600}, \\'type\\': \\'redgifs.com\\'}', 171), ('{\\'oembed\\': {\\'height\\': 1066, \\'html\\': \\'<iframe src=\"https://www.redgifs.com/ifr/cheerfulrealisticmaltesedog\" frameborder=\"0\" scrolling=\"no\" width=\"100%\" height=\"100%\"\\\\n      allowfullscreen style=\"position:absolute;\"></iframe>\\', \\'provider_name\\': \\'RedGIFs\\', \\'provider_url\\': \\'https://www.redgifs.com/\\', \\'thumbnail_height\\': 1080, \\'thumbnail_url\\': \\'https://api.redgifs.com/v2/gifs/cheerfulrealisticmaltesedog/files/CheerfulRealisticMaltesedog-poster.jpg\\', \\'thumbnail_width\\': 608, \\'title\\': \\'Amateur Porn GIF\\', \\'type\\': \\'video\\', \\'version\\': \\'1.0\\', \\'width\\': 600}, \\'type\\': \\'redgifs.com\\'}', 160), ('{\\'oembed\\': {\\'height\\': 1067, \\'html\\': \\'<iframe src=\"https://www.redgifs.com/ifr/lightgreensorrowfulindigowingedparrot\" frameborder=\"0\" scrolling=\"no\" width=\"100%\" height=\"100%\"\\\\n      allowfullscreen style=\"position:absolute;\"></iframe>\\', \\'provider_name\\': \\'RedGIFs\\', \\'provider_url\\': \\'https://www.redgifs.com/\\', \\'thumbnail_height\\': 1920, \\'thumbnail_url\\': \\'https://api.redgifs.com/v2/gifs/lightgreensorrowfulindigowingedparrot/files/LightgreenSorrowfulIndigowingedparrot-poster.jpg\\', \\'thumbnail_width\\': 1080, \\'title\\': \\'Ass Porn GIF\\', \\'type\\': \\'video\\', \\'version\\': \\'1.0\\', \\'width\\': 600}, \\'type\\': \\'redgifs.com\\'}', 154)]\n",
      "\n",
      "over_18 2\n",
      "[('False', 1845804), ('True', 1813189)]\n",
      "\n",
      "is_video 2\n",
      "[('False', 3571700), ('True', 87293)]\n",
      "\n",
      "subreddit_type 3\n",
      "[('public', 3218573), ('user', 252154), ('restricted', 188266)]\n",
      "\n"
     ]
    }
   ],
   "source": [
    "# print out the results\n",
    "for key in dict.keys():\n",
    "    print(key, len(dict[key]))\n",
    "    print(dict[key].most_common(10))\n",
    "    print()"
   ]
  },
  {
   "cell_type": "code",
   "execution_count": 31,
   "metadata": {},
   "outputs": [
    {
     "name": "stderr",
     "output_type": "stream",
     "text": [
      "1763351it [00:52, 33297.11it/s]\n"
     ]
    }
   ],
   "source": [
    "file = open(\"submissions/RS_2023-09-clean\", \"r\")\n",
    "output = open(\"submissions/RS_2023-09-clean2\", \"w+\")\n",
    "dict = {\n",
    "    \"subreddit\": Counter(),\n",
    "    \"id\": Counter(),\n",
    "    \"author\": Counter(),\n",
    "    \"post_hint\": Counter(),\n",
    "    \"score\": Counter(),\n",
    "    \"is_original_content\": Counter(),\n",
    "    \"likes\": Counter(),\n",
    "    \"media\": Counter(),\n",
    "    \"over_18\": Counter(),\n",
    "    \"is_video\": Counter(),\n",
    "    \"subreddit_type\": Counter()\n",
    "}\n",
    "    \n",
    "foundError = False\n",
    "prevData = None\n",
    "for line in tqdm(file):\n",
    "    if foundError:\n",
    "        print(\"prevData: \", prevData)\n",
    "        break\n",
    "    \n",
    "    try:\n",
    "        data = json.loads(line)\n",
    "        \n",
    "        # filter 2: remove galleries and rich video from the data\n",
    "        if ('is_gallery' in data and str(data['is_gallery']) == \"True\") or \\\n",
    "           ('post_hint' in data and str(data['post_hint']) == 'rich:video'):\n",
    "            pass\n",
    "        else:\n",
    "            # filter 3: update image\n",
    "            if 'post_hint' in data and str(data['post_hint']) == \"image\" and 'preview' in data:\n",
    "                # handle the cases where either resolutions or source or both is empty\n",
    "                images = data['preview']['images'][0]\n",
    "                if len(images['resolutions']) == 0:\n",
    "                    if len(images['source']) == 0:\n",
    "                        continue\n",
    "                    else:\n",
    "                        data['image'] = images['source']['url']\n",
    "                        data.pop('preview', None)\n",
    "                        output.write(json.dumps(data).decode(\"utf8\") + \"\\n\")\n",
    "                        continue\n",
    "                \n",
    "                # variables to find the best resolution\n",
    "                preferredResolution = 90000\n",
    "                resolutions = images['resolutions']\n",
    "                minDiff = abs((resolutions[0]['width'] * resolutions[0]['height']) - preferredResolution)\n",
    "                img = resolutions[0]['url']\n",
    "                \n",
    "                # find the resolution closest to 90,000 pixels\n",
    "                for res in resolutions:\n",
    "                    diff = abs((res['width'] * res['height']) - preferredResolution)\n",
    "                    if diff < minDiff:\n",
    "                        minDiff = diff\n",
    "                        img = res['url']\n",
    "                data['image'] = img\n",
    "                data.pop('preview', None)\n",
    "                \n",
    "            output.write(json.dumps(data).decode(\"utf8\") + \"\\n\")\n",
    "        \n",
    "        # update each key's counter for the current data\n",
    "        for key in dict.keys():\n",
    "            if key in data:\n",
    "                dict[key].update([str(data[key])])\n",
    "    except Exception as e:\n",
    "        print(\"ERROR: \", e)\n",
    "        foundError = True\n",
    "        prevData = data\n",
    "        continue\n",
    "    \n",
    "file.close()\n",
    "output.close()"
   ]
  },
  {
   "cell_type": "markdown",
   "metadata": {},
   "source": [
    "#### Counts of the data with filters:\n",
    "* over_18 = False\n",
    "* is_video = False"
   ]
  },
  {
   "cell_type": "code",
   "execution_count": 32,
   "metadata": {},
   "outputs": [
    {
     "name": "stdout",
     "output_type": "stream",
     "text": [
      "subreddit 126754\n",
      "[('Starfield', 19957), ('jerkbudsNolimitssss0', 16642), ('AskReddit', 15777), ('DisneyNewsfeed', 13443), ('PersonalizedGameRecs', 11303), ('PokemonGoRaids', 8616), ('relationship_advice', 7341), ('cuckik_leakkers', 6404), ('u_Appzxt', 6120), ('teenagers', 5572)]\n",
      "\n",
      "id 1763198\n",
      "[('166rg7o', 1), ('166rg7r', 1), ('166rg7s', 1), ('166rg7u', 1), ('166rg7y', 1), ('166rg7z', 1), ('166rg80', 1), ('166rg83', 1), ('166rg84', 1), ('166rg89', 1)]\n",
      "\n",
      "author 792889\n",
      "[('AutoModerator', 30873), ('EchoJobs', 13869), ('LifeCracker', 13443), ('PersonalizedGameRecs', 11303), ('[deleted]', 7535), ('bsgqlocasdfd', 6338), ('Appzxt', 6120), ('AutoNewsAdmin', 5225), ('enre19', 5076), ('piealamodelemonade', 4735)]\n",
      "\n",
      "post_hint 5\n",
      "[('image', 348824), ('link', 235708), ('self', 83845), ('rich:video', 61707), ('gallery', 4)]\n",
      "\n",
      "score 1241\n",
      "[('1', 1725844), ('2', 9429), ('3', 4159), ('4', 2345), ('5', 2006), ('6', 1527), ('7', 1166), ('8', 942), ('9', 807), ('10', 667)]\n",
      "\n",
      "is_original_content 2\n",
      "[('False', 1756361), ('True', 6837)]\n",
      "\n",
      "likes 1\n",
      "[('None', 1763074)]\n",
      "\n",
      "media 45355\n",
      "[('None', 1687556), ('{\\'oembed\\': {\\'author_name\\': \\'theman off shorts\\', \\'author_url\\': \\'https://www.youtube.com/@themanoffshorts\\', \\'height\\': 200, \\'html\\': \\'<iframe width=\"356\" height=\"200\" src=\"https://www.youtube.com/embed/4OOzvifL97k?start=8&feature=oembed&enablejsapi=1\" frameborder=\"0\" allow=\"accelerometer; autoplay; clipboard-write; encrypted-media; gyroscope; picture-in-picture; web-share\" allowfullscreen title=\"TOP 50 Incredible Goals Of The Season 2023\"></iframe>\\', \\'provider_name\\': \\'YouTube\\', \\'provider_url\\': \\'https://www.youtube.com/\\', \\'thumbnail_height\\': 360, \\'thumbnail_url\\': \\'https://i.ytimg.com/vi/4OOzvifL97k/hqdefault.jpg\\', \\'thumbnail_width\\': 480, \\'title\\': \\'TOP 50 Incredible Goals Of The Season 2023\\', \\'type\\': \\'video\\', \\'version\\': \\'1.0\\', \\'width\\': 356}, \\'type\\': \\'youtube.com\\'}', 551), ('{\\'oembed\\': {\\'author_name\\': \\'HotFox K.\\', \\'author_url\\': \\'https://www.youtube.com/@hotfoxk.9889\\', \\'height\\': 200, \\'html\\': \\'<iframe width=\"267\" height=\"200\" src=\"https://www.youtube.com/embed/HGUhmqKPw2Q?feature=oembed&enablejsapi=1\" frameborder=\"0\" allow=\"accelerometer; autoplay; clipboard-write; encrypted-media; gyroscope; picture-in-picture; web-share\" allowfullscreen title=\"0071  Tom and Jerry Scream\"></iframe>\\', \\'provider_name\\': \\'YouTube\\', \\'provider_url\\': \\'https://www.youtube.com/\\', \\'thumbnail_height\\': 360, \\'thumbnail_url\\': \\'https://i.ytimg.com/vi/HGUhmqKPw2Q/hqdefault.jpg\\', \\'thumbnail_width\\': 480, \\'title\\': \\'0071  Tom and Jerry Scream\\', \\'type\\': \\'video\\', \\'version\\': \\'1.0\\', \\'width\\': 267}, \\'type\\': \\'youtube.com\\'}', 468), ('{\\'oembed\\': {\\'author_name\\': \\'Rivers, Ponds and Campfires\\', \\'author_url\\': \\'https://www.youtube.com/@riverspondsandcampfires\\', \\'height\\': 200, \\'html\\': \\'<iframe width=\"356\" height=\"200\" src=\"https://www.youtube.com/embed/zRP4ATXWiTY?feature=oembed&enablejsapi=1\" frameborder=\"0\" allow=\"accelerometer; autoplay; clipboard-write; encrypted-media; gyroscope; picture-in-picture; web-share\" allowfullscreen title=\"Ebike Hammock Camp, Fish and Cook\"></iframe>\\', \\'provider_name\\': \\'YouTube\\', \\'provider_url\\': \\'https://www.youtube.com/\\', \\'thumbnail_height\\': 360, \\'thumbnail_url\\': \\'https://i.ytimg.com/vi/zRP4ATXWiTY/hqdefault.jpg\\', \\'thumbnail_width\\': 480, \\'title\\': \\'Ebike Hammock Camp, Fish and Cook\\', \\'type\\': \\'video\\', \\'version\\': \\'1.0\\', \\'width\\': 356}, \\'type\\': \\'youtube.com\\'}', 181), ('{\\'oembed\\': {\\'author_name\\': \\'Dykes Vegas\\', \\'author_url\\': \\'https://www.youtube.com/@DykesVegas\\', \\'height\\': 200, \\'html\\': \\'<iframe width=\"356\" height=\"200\" src=\"https://www.youtube.com/embed/GQYRgwwP1pw?feature=oembed&enablejsapi=1\" frameborder=\"0\" allow=\"accelerometer; autoplay; clipboard-write; encrypted-media; gyroscope; picture-in-picture; web-share\" allowfullscreen title=\"Dykes Vegas - Techno Gospel (Original Mix)\"></iframe>\\', \\'provider_name\\': \\'YouTube\\', \\'provider_url\\': \\'https://www.youtube.com/\\', \\'thumbnail_height\\': 360, \\'thumbnail_url\\': \\'https://i.ytimg.com/vi/GQYRgwwP1pw/hqdefault.jpg\\', \\'thumbnail_width\\': 480, \\'title\\': \\'Dykes Vegas - Techno Gospel (Original Mix)\\', \\'type\\': \\'video\\', \\'version\\': \\'1.0\\', \\'width\\': 356}, \\'type\\': \\'youtube.com\\'}', 136), ('{\\'oembed\\': {\\'author_name\\': \\'THE AI FORECAST\\', \\'author_url\\': \\'https://www.youtube.com/@TheAIForecast\\', \\'height\\': 200, \\'html\\': \\'<iframe width=\"356\" height=\"200\" src=\"https://www.youtube.com/embed/LXAsqWsfj8Y?feature=oembed&enablejsapi=1\" frameborder=\"0\" allow=\"accelerometer; autoplay; clipboard-write; encrypted-media; gyroscope; picture-in-picture; web-share\" allowfullscreen title=\"ROBOT RIGHTS? Blake Lemoine explains how GOOGLE&#39;s LAMDA was able to HIRE ITS OWN LAWYER!\"></iframe>\\', \\'provider_name\\': \\'YouTube\\', \\'provider_url\\': \\'https://www.youtube.com/\\', \\'thumbnail_height\\': 360, \\'thumbnail_url\\': \\'https://i.ytimg.com/vi/LXAsqWsfj8Y/hqdefault.jpg\\', \\'thumbnail_width\\': 480, \\'title\\': \"ROBOT RIGHTS? Blake Lemoine explains how GOOGLE\\'s LAMDA was able to HIRE ITS OWN LAWYER!\", \\'type\\': \\'video\\', \\'version\\': \\'1.0\\', \\'width\\': 356}, \\'type\\': \\'youtube.com\\'}', 127), ('{\\'oembed\\': {\\'author_name\\': \\'THE AI FORECAST\\', \\'author_url\\': \\'https://www.youtube.com/@TheAIForecast\\', \\'height\\': 200, \\'html\\': \\'<iframe width=\"356\" height=\"200\" src=\"https://www.youtube.com/embed/G3N_fODDRV4?start=5&feature=oembed&enablejsapi=1\" frameborder=\"0\" allow=\"accelerometer; autoplay; clipboard-write; encrypted-media; gyroscope; picture-in-picture; web-share\" allowfullscreen title=\"The GODFATHER of A.I., Geoffrey Hinton, explains why he left GOOGLE amid his SAFETY CONCERNS!\"></iframe>\\', \\'provider_name\\': \\'YouTube\\', \\'provider_url\\': \\'https://www.youtube.com/\\', \\'thumbnail_height\\': 360, \\'thumbnail_url\\': \\'https://i.ytimg.com/vi/G3N_fODDRV4/hqdefault.jpg\\', \\'thumbnail_width\\': 480, \\'title\\': \\'The GODFATHER of A.I., Geoffrey Hinton, explains why he left GOOGLE amid his SAFETY CONCERNS!\\', \\'type\\': \\'video\\', \\'version\\': \\'1.0\\', \\'width\\': 356}, \\'type\\': \\'youtube.com\\'}', 102), ('{\\'oembed\\': {\\'author_name\\': \\'CULTCHIEF\\', \\'author_url\\': \\'https://www.youtube.com/@CULTCHIEF\\', \\'height\\': 200, \\'html\\': \\'<iframe width=\"356\" height=\"200\" src=\"https://www.youtube.com/embed/LMzicusjkZ4?feature=oembed&enablejsapi=1\" frameborder=\"0\" allow=\"accelerometer; autoplay; clipboard-write; encrypted-media; gyroscope; picture-in-picture; web-share\" allowfullscreen title=\"BILLY GRAM EXPOSED (Official Video)\"></iframe>\\', \\'provider_name\\': \\'YouTube\\', \\'provider_url\\': \\'https://www.youtube.com/\\', \\'thumbnail_height\\': 360, \\'thumbnail_url\\': \\'https://i.ytimg.com/vi/LMzicusjkZ4/hqdefault.jpg\\', \\'thumbnail_width\\': 480, \\'title\\': \\'BILLY GRAM EXPOSED (Official Video)\\', \\'type\\': \\'video\\', \\'version\\': \\'1.0\\', \\'width\\': 356}, \\'type\\': \\'youtube.com\\'}', 91), ('{\\'oembed\\': {\\'description\\': \\'Mi chiamo Giuseppe Simmarano, ho 22 anni e mi piace fare divertire la gente con reaction, Just Chatting e delle volte anche gaming. Ogni giorno divertimento assicurato\\', \\'height\\': 340, \\'html\\': \\'<iframe class=\"embedly-embed\" src=\"https://cdn.embedly.com/widgets/media.html?src=https%3A%2F%2Fplayer.twitch.tv%2F%3Fchannel%3Dpeppeyt00%26muted%3Dtrue%26autoplay%3Dfalse%26parent%3Dcdn.embedly.com%26parent%3Dreddit.com%26parent%3Dwww.reddit.com%26parent%3Dold.reddit.com%26parent%3Dnew.reddit.com%26parent%3Dredditmedia.com&display_name=Twitch.tv&url=https%3A%2F%2Fwww.twitch.tv%2Fpeppeyt00&image=https%3A%2F%2Fstatic-cdn.jtvnw.net%2Fjtv_user_pictures%2Fcd0e70f1-ff17-4f0a-b540-4c7d26cdd2c1-profile_image-300x300.png&key=ed8fa8699ce04833838e66ce79ba05f1&type=text%2Fhtml&schema=twitch\" width=\"600\" height=\"340\" scrolling=\"no\" title=\"Twitch.tv embed\" frameborder=\"0\" allow=\"autoplay; fullscreen; encrypted-media; picture-in-picture;\" allowfullscreen=\"true\"></iframe>\\', \\'provider_name\\': \\'Twitch.tv\\', \\'provider_url\\': \\'http://www.twitch.tv\\', \\'thumbnail_height\\': 300, \\'thumbnail_url\\': \\'https://static-cdn.jtvnw.net/jtv_user_pictures/cd0e70f1-ff17-4f0a-b540-4c7d26cdd2c1-profile_image-300x300.png\\', \\'thumbnail_width\\': 300, \\'title\\': \\'peppeyt00 - Twitch\\', \\'type\\': \\'rich\\', \\'version\\': \\'1.0\\', \\'width\\': 600}, \\'type\\': \\'twitch.tv\\'}', 88), ('{\\'oembed\\': {\\'description\\': \\'BENVENUTI SU BRAWLHALLA! !sub !prime !emote !of !subtember\\', \\'height\\': 340, \\'html\\': \\'<iframe class=\"embedly-embed\" src=\"https://cdn.embedly.com/widgets/media.html?src=https%3A%2F%2Fplayer.twitch.tv%2F%3Fchannel%3Dpeppeyt00%26muted%3Dtrue%26autoplay%3Dfalse%26parent%3Dcdn.embedly.com%26parent%3Dreddit.com%26parent%3Dwww.reddit.com%26parent%3Dold.reddit.com%26parent%3Dnew.reddit.com%26parent%3Dredditmedia.com&display_name=Twitch.tv&url=https%3A%2F%2Fwww.twitch.tv%2Fpeppeyt00&image=https%3A%2F%2Fstatic-cdn.jtvnw.net%2Fjtv_user_pictures%2Fcd0e70f1-ff17-4f0a-b540-4c7d26cdd2c1-profile_image-300x300.png&key=ed8fa8699ce04833838e66ce79ba05f1&type=text%2Fhtml&schema=twitch\" width=\"600\" height=\"340\" scrolling=\"no\" title=\"Twitch.tv embed\" frameborder=\"0\" allow=\"autoplay; fullscreen; encrypted-media; picture-in-picture;\" allowfullscreen=\"true\"></iframe>\\', \\'provider_name\\': \\'Twitch.tv\\', \\'provider_url\\': \\'http://www.twitch.tv\\', \\'thumbnail_height\\': 300, \\'thumbnail_url\\': \\'https://static-cdn.jtvnw.net/jtv_user_pictures/cd0e70f1-ff17-4f0a-b540-4c7d26cdd2c1-profile_image-300x300.png\\', \\'thumbnail_width\\': 300, \\'title\\': \\'peppeyt00 - Twitch\\', \\'type\\': \\'rich\\', \\'version\\': \\'1.0\\', \\'width\\': 600}, \\'type\\': \\'twitch.tv\\'}', 87)]\n",
      "\n",
      "over_18 1\n",
      "[('False', 1763198)]\n",
      "\n",
      "is_video 1\n",
      "[('False', 1763198)]\n",
      "\n",
      "subreddit_type 3\n",
      "[('public', 1436165), ('user', 183712), ('restricted', 143321)]\n",
      "\n"
     ]
    }
   ],
   "source": [
    "# print out the results\n",
    "for key in dict.keys():\n",
    "    print(key, len(dict[key]))\n",
    "    print(dict[key].most_common(10))\n",
    "    print()"
   ]
  },
  {
   "cell_type": "code",
   "execution_count": 46,
   "metadata": {},
   "outputs": [
    {
     "name": "stderr",
     "output_type": "stream",
     "text": [
      "1575821it [00:37, 41621.28it/s]\n"
     ]
    }
   ],
   "source": [
    "file = open(\"submissions/RS_2023-09-clean2\", \"r\")\n",
    "output = open(\"submissions/RS_2023-09-clean3\", \"w+\")\n",
    "dict = {\n",
    "    \"subreddit\": Counter(),\n",
    "    \"id\": Counter(),\n",
    "    \"author\": Counter(),\n",
    "    \"score\": Counter(),\n",
    "    \"title\": Counter(),\n",
    "    \"date\": Counter(),\n",
    "    \"selftext\": Counter(),\n",
    "    \"image\": Counter(),\n",
    "    \"spoiler\": Counter()\n",
    "}\n",
    "    \n",
    "foundError = False\n",
    "prevData = None\n",
    "for line in tqdm(file):\n",
    "    if foundError:\n",
    "        print(\"prevData: \", prevData)\n",
    "        break\n",
    "    \n",
    "    try:\n",
    "        data = json.loads(line)\n",
    "        \n",
    "        # convert utc time to date\n",
    "        data['date'] = datetime.datetime.fromtimestamp(data['created_utc']).strftime('%Y-%m-%d')\n",
    "        \n",
    "        # remove all elements that are not in the dict and write to file\n",
    "        new_data = {}\n",
    "        for key in dict.keys():\n",
    "            if key in data:\n",
    "                new_data[key] = data[key]\n",
    "        output.write(json.dumps(new_data).decode(\"utf8\") + \"\\n\")\n",
    "        \n",
    "        data.pop('date', None)\n",
    "        \n",
    "        # update each key's counter for the current data\n",
    "        for key in dict.keys():\n",
    "            if key in data:\n",
    "                dict[key].update([str(data[key])])\n",
    "    except Exception as e:\n",
    "        print(\"ERROR: \", e)\n",
    "        foundError = True\n",
    "        prevData = data\n",
    "        continue\n",
    "    \n",
    "file.close()\n",
    "output.close()"
   ]
  },
  {
   "cell_type": "markdown",
   "metadata": {},
   "source": [
    "#### Counts of the data with filters:\n",
    "* over_18 = False\n",
    "* is_video = False\n",
    "* is_gallery = False\n",
    "* remove \"rich:video\"\n",
    "* replace \"preview\" with \"image\""
   ]
  },
  {
   "cell_type": "code",
   "execution_count": 47,
   "metadata": {},
   "outputs": [
    {
     "name": "stdout",
     "output_type": "stream",
     "text": [
      "subreddit 116992\n",
      "[('Starfield', 18999), ('jerkbudsNolimitssss0', 15872), ('AskReddit', 15777), ('DisneyNewsfeed', 13443), ('PersonalizedGameRecs', 11303), ('PokemonGoRaids', 8593), ('relationship_advice', 7341), ('u_Appzxt', 6120), ('cuckik_leakkers', 5899), ('teenagers', 5556)]\n",
      "\n",
      "id 1575821\n",
      "[('166rg7o', 1), ('166rg7r', 1), ('166rg7u', 1), ('166rg7y', 1), ('166rg7z', 1), ('166rg80', 1), ('166rg83', 1), ('166rg84', 1), ('166rg89', 1), ('166rg8a', 1)]\n",
      "\n",
      "author 716065\n",
      "[('AutoModerator', 28263), ('EchoJobs', 13869), ('LifeCracker', 13443), ('PersonalizedGameRecs', 11303), ('[deleted]', 6894), ('bsgqlocasdfd', 6338), ('Appzxt', 6120), ('AutoNewsAdmin', 5225), ('enre19', 5076), ('piealamodelemonade', 4735)]\n",
      "\n",
      "score 1156\n",
      "[('1', 1543648), ('2', 8471), ('3', 3723), ('4', 2099), ('5', 1784), ('6', 1327), ('7', 988), ('8', 805), ('9', 670), ('10', 556)]\n",
      "\n",
      "title 1176538\n",
      "[('Dale Wilson', 3445), ('Aria Electra Video Baby Alien Fan Bus Leaked The Fan Van Twitter', 2742), ('Praise Todd Howard', 2626), ('Video de Abraham Villa fotos Filtradas Pack filtran Influencer twitter', 2006), ('Baby Alien Fan Van Video', 1632), ('IUTR', 1237), ('Jenna Ortega Leaked Video – Austria Fan', 1088), ('Camilla Araujo Leaked Onlyfans Video Girl Mr Beast Squid Game', 1043), ('Natasha Gavri Medusa Ukraine Video War Girl Donde Ver el Twitter', 937), ('Brittany Renner Leaked Onlyfans Charleston White Video Twitter', 936)]\n",
      "\n",
      "date 0\n",
      "[]\n",
      "\n",
      "selftext 629262\n",
      "[('', 705556), ('[removed]', 133784), ('[deleted]', 8697), ('[source video](https://www.google.com/url?sa=t&source=web&rct=j&opi=89978449&url=https://pornredit.com/158744/&ved=2ahUKEwicmLLovfeAAxXqIUQIHbkmCssQFnoECAwQAQ&usg=AOvVaw2YYlDfv2vPsOKVI_XzmovA)', 5074), ('[source video](https://www.google.com/url?sa=t&source=web&rct=j&opi=89978449&url=https://pornredit.com/167208/&ved=2ahUKEwiho_XIqdmAAxUgFzQIHXA8AJ0QFnoECBwQAQ&usg=AOvVaw1RTiDNgnEl4UyQ5pbXBBL8)', 4352), ('Praise The Legendary Game Developer Todd Howard', 2626), ('https://layerzer0.finance', 2297), ('https://zkera.community', 1931), ('https://layerzer0.company', 1793), ('https://layerzer0.community', 1366)]\n",
      "\n",
      "image 339219\n",
      "[('https://external-preview.redd.it/ESPM-tTuK3werLgfWG_wBsw_trUSDNU4bI5s2jVRAgQ.png?width=108&crop=smart&auto=webp&s=6bdf4d9c8ec6b3100f803c1cf0848f49a5aee344', 32), ('https://preview.redd.it/kn715i9yetlb1.png?width=320&crop=smart&auto=webp&s=9c793f204f18686f3ebadb5bfaa4df50af19fa19', 28), ('https://external-preview.redd.it/hp5eVChTDPb5va3f0mFyS5A8CnGA5BXIKcJb5LCZ7RY.png?width=320&crop=smart&auto=webp&s=f11dec344fe3cfa7bd101e57d592b241294a388e', 25), ('https://preview.redd.it/g7oz0jzp80mb1.jpg?width=320&crop=smart&auto=webp&s=3e5898f37f8dd11d7d3cd00b4d7b535d670fc2c1', 23), ('https://preview.redd.it/nhq2ov86dklb1.jpg?width=320&crop=smart&auto=webp&s=d077d9db72892faa04fc65f0a24b77f5d42f3a07', 19), ('https://preview.redd.it/a1zf848hkolb1.jpg?width=320&crop=smart&auto=webp&s=5e4b71587a8aef81892ef59adfc2c616f328fe7f', 18), ('https://preview.redd.it/j0dc67478vlb1.jpg?width=320&crop=smart&auto=webp&s=589ff8bbe594f8fd9f6514641474cc67c246fd8a', 18), ('https://preview.redd.it/1dhqp8xjvilb1.jpg?width=320&crop=smart&auto=webp&s=474cfed8c1c142382d01ea8767fa30b3a13981ca', 16), ('https://preview.redd.it/s87w67lb5wlb1.jpg?width=216&crop=smart&auto=webp&s=d9d245976d944b86e1f3f47ae1dc91bdc438235e', 16), ('https://preview.redd.it/7ezfcxfuqhlb1.png?width=320&crop=smart&auto=webp&s=2b88853aab0279578b3153c0d5feb9894af2670d', 15)]\n",
      "\n",
      "spoiler 2\n",
      "[('False', 1556102), ('True', 19719)]\n",
      "\n"
     ]
    }
   ],
   "source": [
    "# print out the results\n",
    "for key in dict.keys():\n",
    "    print(key, len(dict[key]))\n",
    "    print(dict[key].most_common(10))\n",
    "    print()"
   ]
  },
  {
   "cell_type": "code",
   "execution_count": 48,
   "metadata": {},
   "outputs": [
    {
     "name": "stderr",
     "output_type": "stream",
     "text": [
      "1575821it [00:13, 113111.49it/s]\n"
     ]
    }
   ],
   "source": [
    "file = open(\"submissions/RS_2023-09-clean3\", \"r\")\n",
    "# output = open(\"submissions/RS_2023-09-clean4\", \"w+\")\n",
    "dict = {\n",
    "    \"subreddit\": Counter(),\n",
    "    \"id\": Counter(),\n",
    "    \"author\": Counter(),\n",
    "    \"score\": Counter(),\n",
    "    \"title\": Counter(),\n",
    "    \"date\": Counter(),\n",
    "    \"selftext\": Counter(),\n",
    "    \"image\": Counter(),\n",
    "    \"spoiler\": Counter()\n",
    "}\n",
    "    \n",
    "foundError = False\n",
    "prevData = None\n",
    "for line in tqdm(file):\n",
    "    if foundError:\n",
    "        print(\"prevData: \", prevData)\n",
    "        break\n",
    "    \n",
    "    try:\n",
    "        data = json.loads(line)\n",
    "        \n",
    "        # update each key's counter for the current data\n",
    "        for key in dict.keys():\n",
    "            if key in data:\n",
    "                dict[key].update([str(data[key])])\n",
    "    except Exception as e:\n",
    "        print(\"ERROR: \", e)\n",
    "        foundError = True\n",
    "        prevData = data\n",
    "        continue\n",
    "    \n",
    "file.close()\n",
    "# output.close()"
   ]
  },
  {
   "cell_type": "code",
   "execution_count": 49,
   "metadata": {},
   "outputs": [
    {
     "name": "stdout",
     "output_type": "stream",
     "text": [
      "subreddit 116992\n",
      "[('Starfield', 18999), ('jerkbudsNolimitssss0', 15872), ('AskReddit', 15777), ('DisneyNewsfeed', 13443), ('PersonalizedGameRecs', 11303), ('PokemonGoRaids', 8593), ('relationship_advice', 7341), ('u_Appzxt', 6120), ('cuckik_leakkers', 5899), ('teenagers', 5556)]\n",
      "\n",
      "id 1575821\n",
      "[('166rg7o', 1), ('166rg7r', 1), ('166rg7u', 1), ('166rg7y', 1), ('166rg7z', 1), ('166rg80', 1), ('166rg83', 1), ('166rg84', 1), ('166rg89', 1), ('166rg8a', 1)]\n",
      "\n",
      "author 716065\n",
      "[('AutoModerator', 28263), ('EchoJobs', 13869), ('LifeCracker', 13443), ('PersonalizedGameRecs', 11303), ('[deleted]', 6894), ('bsgqlocasdfd', 6338), ('Appzxt', 6120), ('AutoNewsAdmin', 5225), ('enre19', 5076), ('piealamodelemonade', 4735)]\n",
      "\n",
      "score 1156\n",
      "[('1', 1543648), ('2', 8471), ('3', 3723), ('4', 2099), ('5', 1784), ('6', 1327), ('7', 988), ('8', 805), ('9', 670), ('10', 556)]\n",
      "\n",
      "title 1176538\n",
      "[('Dale Wilson', 3445), ('Aria Electra Video Baby Alien Fan Bus Leaked The Fan Van Twitter', 2742), ('Praise Todd Howard', 2626), ('Video de Abraham Villa fotos Filtradas Pack filtran Influencer twitter', 2006), ('Baby Alien Fan Van Video', 1632), ('IUTR', 1237), ('Jenna Ortega Leaked Video – Austria Fan', 1088), ('Camilla Araujo Leaked Onlyfans Video Girl Mr Beast Squid Game', 1043), ('Natasha Gavri Medusa Ukraine Video War Girl Donde Ver el Twitter', 937), ('Brittany Renner Leaked Onlyfans Charleston White Video Twitter', 936)]\n",
      "\n",
      "date 4\n",
      "[('2023-09-01', 648896), ('2023-09-02', 594852), ('2023-09-03', 204079), ('2023-08-31', 127994)]\n",
      "\n",
      "selftext 629262\n",
      "[('', 705556), ('[removed]', 133784), ('[deleted]', 8697), ('[source video](https://www.google.com/url?sa=t&source=web&rct=j&opi=89978449&url=https://pornredit.com/158744/&ved=2ahUKEwicmLLovfeAAxXqIUQIHbkmCssQFnoECAwQAQ&usg=AOvVaw2YYlDfv2vPsOKVI_XzmovA)', 5074), ('[source video](https://www.google.com/url?sa=t&source=web&rct=j&opi=89978449&url=https://pornredit.com/167208/&ved=2ahUKEwiho_XIqdmAAxUgFzQIHXA8AJ0QFnoECBwQAQ&usg=AOvVaw1RTiDNgnEl4UyQ5pbXBBL8)', 4352), ('Praise The Legendary Game Developer Todd Howard', 2626), ('https://layerzer0.finance', 2297), ('https://zkera.community', 1931), ('https://layerzer0.company', 1793), ('https://layerzer0.community', 1366)]\n",
      "\n",
      "image 339219\n",
      "[('https://external-preview.redd.it/ESPM-tTuK3werLgfWG_wBsw_trUSDNU4bI5s2jVRAgQ.png?width=108&crop=smart&auto=webp&s=6bdf4d9c8ec6b3100f803c1cf0848f49a5aee344', 32), ('https://preview.redd.it/kn715i9yetlb1.png?width=320&crop=smart&auto=webp&s=9c793f204f18686f3ebadb5bfaa4df50af19fa19', 28), ('https://external-preview.redd.it/hp5eVChTDPb5va3f0mFyS5A8CnGA5BXIKcJb5LCZ7RY.png?width=320&crop=smart&auto=webp&s=f11dec344fe3cfa7bd101e57d592b241294a388e', 25), ('https://preview.redd.it/g7oz0jzp80mb1.jpg?width=320&crop=smart&auto=webp&s=3e5898f37f8dd11d7d3cd00b4d7b535d670fc2c1', 23), ('https://preview.redd.it/nhq2ov86dklb1.jpg?width=320&crop=smart&auto=webp&s=d077d9db72892faa04fc65f0a24b77f5d42f3a07', 19), ('https://preview.redd.it/a1zf848hkolb1.jpg?width=320&crop=smart&auto=webp&s=5e4b71587a8aef81892ef59adfc2c616f328fe7f', 18), ('https://preview.redd.it/j0dc67478vlb1.jpg?width=320&crop=smart&auto=webp&s=589ff8bbe594f8fd9f6514641474cc67c246fd8a', 18), ('https://preview.redd.it/1dhqp8xjvilb1.jpg?width=320&crop=smart&auto=webp&s=474cfed8c1c142382d01ea8767fa30b3a13981ca', 16), ('https://preview.redd.it/s87w67lb5wlb1.jpg?width=216&crop=smart&auto=webp&s=d9d245976d944b86e1f3f47ae1dc91bdc438235e', 16), ('https://preview.redd.it/7ezfcxfuqhlb1.png?width=320&crop=smart&auto=webp&s=2b88853aab0279578b3153c0d5feb9894af2670d', 15)]\n",
      "\n",
      "spoiler 2\n",
      "[('False', 1556102), ('True', 19719)]\n",
      "\n"
     ]
    }
   ],
   "source": [
    "# print out the results\n",
    "for key in dict.keys():\n",
    "    print(key, len(dict[key]))\n",
    "    print(dict[key].most_common(10))\n",
    "    print()"
   ]
  }
 ],
 "metadata": {
  "kernelspec": {
   "display_name": "Python 3",
   "language": "python",
   "name": "python3"
  },
  "language_info": {
   "codemirror_mode": {
    "name": "ipython",
    "version": 3
   },
   "file_extension": ".py",
   "mimetype": "text/x-python",
   "name": "python",
   "nbconvert_exporter": "python",
   "pygments_lexer": "ipython3",
   "version": "3.9.6"
  }
 },
 "nbformat": 4,
 "nbformat_minor": 2
}
