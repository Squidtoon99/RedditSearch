{
 "cells": [
  {
   "cell_type": "code",
   "execution_count": 91,
   "metadata": {},
   "outputs": [],
   "source": [
    "import json\n",
    "from collections import Counter\n",
    "from tqdm import tqdm\n",
    "from pprint import pprint"
   ]
  },
  {
   "cell_type": "code",
   "execution_count": 74,
   "metadata": {},
   "outputs": [
    {
     "name": "stdout",
     "output_type": "stream",
     "text": [
      "{'subreddit': Counter(), 'id': Counter(), 'author': Counter(), 'post_hint': Counter(), 'score': Counter(), 'is_original_content': Counter(), 'likes': Counter(), 'media': Counter(), 'over_18': Counter(), 'is_video': Counter(), 'subreddit_type': Counter()}\n"
     ]
    }
   ],
   "source": [
    "file = open(\"submissions/RS_2023-09\", \"r\")\n",
    "\n",
    "# Parameters to research about:\n",
    "dict = {\n",
    "    \"subreddit\": Counter(),\n",
    "    \"id\": Counter(),\n",
    "    \"author\": Counter(),\n",
    "    \"post_hint\": Counter(),\n",
    "    \"score\": Counter(),\n",
    "    \"is_original_content\": Counter(),\n",
    "    \"likes\": Counter(),\n",
    "    \"media\": Counter(),\n",
    "    \"over_18\": Counter(),\n",
    "    \"is_video\": Counter(),\n",
    "    \"subreddit_type\": Counter()\n",
    "}\n",
    "print(dict)"
   ]
  },
  {
   "cell_type": "code",
   "execution_count": null,
   "metadata": {},
   "outputs": [],
   "source": [
    "output = open(\"submissions/RS_2023-09-clean\", \"w+\")\n",
    "for line in tqdm(file):\n",
    "    try:\n",
    "        data = json.loads(line)\n",
    "        \n",
    "        # filter 1: add to new_data if not over_18 and not is_video\n",
    "        if str(data['over_18']) == \"False\" and str(data['is_video']) == \"False\":\n",
    "            output.write(json.dumps(data).decode(\"utf8\") + \"\\n\")\n",
    "        \n",
    "        # update each key's counter for the current data\n",
    "        for key in dict.keys():\n",
    "            if key in data:\n",
    "                dict[key].update([str(data[key])])\n",
    "    except Exception as e:\n",
    "        print(\"ERROR: \", e)\n",
    "        continue\n",
    "\n",
    "output.close()\n",
    "file.close()"
   ]
  },
  {
   "cell_type": "markdown",
   "metadata": {},
   "source": [
    "#### Counts of the data without any filters:"
   ]
  },
  {
   "cell_type": "code",
   "execution_count": null,
   "metadata": {},
   "outputs": [],
   "source": [
    "# print out the results\n",
    "for key in dict.keys():\n",
    "    print(key, len(dict[key]))\n",
    "    print(dict[key].most_common(10))\n",
    "    print()"
   ]
  },
  {
   "cell_type": "code",
   "execution_count": null,
   "metadata": {},
   "outputs": [],
   "source": [
    "file = open(\"submissions/RS_2023-09-clean\", \"r\")\n",
    "output = open(\"submissions/RS_2023-09-clean2\", \"w+\")\n",
    "# dict = {\n",
    "#     \"subreddit\": Counter(),\n",
    "#     \"id\": Counter(),\n",
    "#     \"author\": Counter(),\n",
    "#     \"post_hint\": Counter(),\n",
    "#     \"score\": Counter(),\n",
    "#     \"is_original_content\": Counter(),\n",
    "#     \"likes\": Counter(),\n",
    "#     \"media\": Counter(),\n",
    "#     \"over_18\": Counter(),\n",
    "#     \"is_video\": Counter(),\n",
    "#     \"subreddit_type\": Counter()\n",
    "# }\n",
    "    \n",
    "# max = 1\n",
    "for line in tqdm(file):\n",
    "    # if max == 0:\n",
    "    #     break\n",
    "    # max -= 1\n",
    "    \n",
    "    try:\n",
    "        data = json.loads(line)\n",
    "        \n",
    "        # filter 2: remove galleries from the data\n",
    "        if 'is_gallery' in data and str(data['is_gallery']) == \"True\":\n",
    "            pass\n",
    "        else:\n",
    "            # filter 3: update image\n",
    "            if 'post_hint' in data and str(data['post_hint']) == \"image\" and 'preview' in data:\n",
    "                # variables to find the best resolution\n",
    "                preferredResolution = 90000\n",
    "                resolutions = data['preview']['images'][0]['resolutions']\n",
    "                minDiff = abs((resolutions[0]['width'] * resolutions[0]['height']) - preferredResolution)\n",
    "                img = resolutions[0]['url']\n",
    "                \n",
    "                # find the resolution closest to 90,000 pixels\n",
    "                for res in resolutions:\n",
    "                    diff = abs((res['width'] * res['height']) - preferredResolution)\n",
    "                    if diff < minDiff:\n",
    "                        minDiff = diff\n",
    "                        img = res['url']\n",
    "                data['image'] = img\n",
    "                data.pop('preview', None)\n",
    "                \n",
    "            output.write(json.dumps(data).decode(\"utf8\") + \"\\n\")\n",
    "        \n",
    "        # update each key's counter for the current data\n",
    "        # for key in dict.keys():\n",
    "        #     if key in data:\n",
    "        #         dict[key].update([str(data[key])])\n",
    "    except Exception as e:\n",
    "        print(\"ERROR: \", e)\n",
    "        continue\n",
    "    \n",
    "file.close()\n",
    "output.close()"
   ]
  },
  {
   "cell_type": "markdown",
   "metadata": {},
   "source": [
    "#### Counts of the data with filters:\n",
    "* over_18 = False\n",
    "* is_video = False"
   ]
  },
  {
   "cell_type": "code",
   "execution_count": null,
   "metadata": {},
   "outputs": [],
   "source": [
    "# print out the results\n",
    "for key in dict.keys():\n",
    "    print(key, len(dict[key]))\n",
    "    print(dict[key].most_common(10))\n",
    "    print()"
   ]
  },
  {
   "cell_type": "code",
   "execution_count": null,
   "metadata": {},
   "outputs": [],
   "source": []
  }
 ],
 "metadata": {
  "kernelspec": {
   "display_name": "Python 3",
   "language": "python",
   "name": "python3"
  },
  "language_info": {
   "codemirror_mode": {
    "name": "ipython",
    "version": 3
   },
   "file_extension": ".py",
   "mimetype": "text/x-python",
   "name": "python",
   "nbconvert_exporter": "python",
   "pygments_lexer": "ipython3",
   "version": "3.9.6"
  }
 },
 "nbformat": 4,
 "nbformat_minor": 2
}
